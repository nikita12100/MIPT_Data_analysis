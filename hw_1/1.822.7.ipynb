{
 "cells": [
  {
   "cell_type": "markdown",
   "metadata": {},
   "source": [
    "# Введение в анализ данных\n",
    "## Домашнее задание 1. `Numpy`, `matplotlib`, `scipy.stats`\n"
   ]
  },
  {
   "cell_type": "markdown",
   "metadata": {},
   "source": [
    "**Правила:**\n",
    "\n",
    "* Дедлайн **25 марта 23:59**. После дедлайна работы не принимаются кроме случаев наличия уважительной причины.\n",
    "* Выполненную работу нужно отправить на почту `mipt.stats@yandex.ru`, указав тему письма `\"[номер группы] Фамилия Имя - Задание 1\"`. Квадратные скобки обязательны.\n",
    "* Прислать нужно ноутбук и его pdf-версию (без архивов). Названия файлов должны быть такими: `1.N.ipynb` и `1.N.pdf`, где `N` -- ваш номер из таблицы с оценками. *pdf-версию можно сделать с помощью Ctrl+P. Пожалуйста, посмотрите ее полностью перед отправкой. Если что-то существенное не напечатается в pdf, то баллы могут быть снижены.*\n",
    "* Решения, размещенные на каких-либо интернет-ресурсах, не принимаются. Кроме того, публикация решения в открытом доступе может быть приравнена к предоставлении возможности списать.\n",
    "* Для выполнения задания используйте этот ноутбук в качестве основы, ничего не удаляя из него.\n",
    "* Пропущенные описания принимаемых аргументов дописать на русском.\n",
    "* Если код будет не понятен проверяющему, оценка может быть снижена.\n",
    "\n",
    "**Баллы за задание:**\n",
    "\n",
    "Легкая часть (достаточно на \"хор\"):\n",
    "* Задача 1.1 -- 3 балла\n",
    "* Задача 1.2 -- 3 балла\n",
    "* Задача 2 -- 3 балла\n",
    "\n",
    "Сложная часть (необходимо на \"отл\"):\n",
    "* Задача 1.3 -- 3 балла\n",
    "* Задача 3.1 -- 3 балла\n",
    "* Задача 3.2 -- 3 балла\n",
    "* Задача 3.3 -- 3 балла\n",
    "* Задача 4 -- 4 балла\n",
    "\n",
    "Баллы за разные части суммируются отдельно, нормируются впоследствии также отдельно. Иначе говоря, 1 балл за легкую часть может быть не равен 1 баллу за сложную часть."
   ]
  },
  {
   "cell_type": "code",
   "execution_count": 19,
   "metadata": {},
   "outputs": [],
   "source": [
    "import numpy as np\n",
    "import scipy.stats as sps\n",
    "\n",
    "import matplotlib.pyplot as plt\n",
    "import matplotlib.cm as cm\n",
    "from mpl_toolkits.mplot3d import Axes3D\n",
    "import ipywidgets as widgets\n",
    "import pandas\n",
    "\n",
    "import typing\n",
    "\n",
    "%matplotlib inline"
   ]
  },
  {
   "cell_type": "markdown",
   "metadata": {},
   "source": [
    "### Легкая часть: генерация"
   ]
  },
  {
   "cell_type": "markdown",
   "metadata": {},
   "source": [
    "<font color=\"red\">В этой части другие библиотеки использовать запрещено. Шаблоны кода ниже менять нельзя. </font>\n",
    "\n",
    "### Задача 1\n",
    "Имеется симметричная монета. Напишите функцию генерации независимых случайных величин из нормального и экспоненциального распределений с заданными параметрами."
   ]
  },
  {
   "cell_type": "code",
   "execution_count": 20,
   "metadata": {},
   "outputs": [],
   "source": [
    "# Эта ячейка -- единственная в задаче 1, в которой нужно использовать\n",
    "# библиотечную функция для генерации случайных чисел.\n",
    "# В других ячейках данной задачи используйте функцию coin.\n",
    "\n",
    "# симметричная монета\n",
    "#coin = sps.norm(loc=0, scale=1).rvs\n",
    "#coin = sps.expon(scale=1).rvs\n",
    "coin = sps.bernoulli(p = 1/2).rvs"
   ]
  },
  {
   "cell_type": "markdown",
   "metadata": {},
   "source": [
    "Проверьте работоспособность функции, сгенерировав 10 бросков симметричной монеты."
   ]
  },
  {
   "cell_type": "code",
   "execution_count": 21,
   "metadata": {},
   "outputs": [
    {
     "data": {
      "text/plain": [
       "array([0, 1, 0, 0, 1, 0, 1, 1, 1, 1])"
      ]
     },
     "execution_count": 21,
     "metadata": {},
     "output_type": "execute_result"
    }
   ],
   "source": [
    "coin(size=10)"
   ]
  },
  {
   "cell_type": "markdown",
   "metadata": {},
   "source": [
    "**Часть 1.** Напишите сначала функцию генерации случайных величин из равномерного распределения на отрезке $[0, 1]$ с заданной точностью. Это можно сделать, записав случайную величину $\\xi \\sim U[0, 1]$ в двоичной системе системе счисления $\\xi = 0,\\xi_1\\xi_2\\xi_3...$. Тогда $\\xi_i \\sim Bern(1/2)$ и независимы в совокупности. Приближение заключается в том, что вместо генерации бесконечного количества $\\xi_i$ мы полагаем $\\xi = 0,\\xi_1\\xi_2\\xi_3...\\xi_n$.\n",
    "\n",
    "Нужно реализовать функцию нужно так, чтобы она могла принимать на вход в качестве параметра `size` как число, так и объект `tuple` любой размерности, и возвращать объект `numpy.array` соответствующей размерности. Например, если `size=(10, 1, 5)`, то функция должна вернуть объект размера $10 \\times 1 \\times 5$. Кроме того, функцию `coin` можно вызвать только один раз, и, конечно же, не использовать какие-либо циклы. Аргумент `precision` отвечает за число $n$."
   ]
  },
  {
   "cell_type": "code",
   "execution_count": 22,
   "metadata": {},
   "outputs": [],
   "source": [
    "def uniform(size=1, precision=30):\n",
    "    count_elements = np.array([size]).prod()\n",
    "    arr_of_dec = np.array(coin(count_elements*precision)).reshape(count_elements, precision)\n",
    "    matr_of_dec = 0.5 ** np.arange(1, precision + 1, 1)\n",
    "    return np.array(arr_of_dec[:]  @ matr_of_dec)"
   ]
  },
  {
   "cell_type": "code",
   "execution_count": 23,
   "metadata": {
    "scrolled": false
   },
   "outputs": [
    {
     "name": "stdout",
     "output_type": "stream",
     "text": [
      "[0.875   0.71875 0.09375 0.34375]\n"
     ]
    }
   ],
   "source": [
    "print(uniform((2, 2), 5))"
   ]
  },
  {
   "cell_type": "markdown",
   "metadata": {},
   "source": [
    "Для $U[0, 1]$ сгенерируйте 200 независимых случайных величин, постройте график плотности на отрезке $[-0.25, 1.25]$, а также гистограмму по сгенерированным случайным величинам."
   ]
  },
  {
   "cell_type": "code",
   "execution_count": 24,
   "metadata": {},
   "outputs": [
    {
     "data": {
      "image/png": "[encoded data removed]",
      "text/plain": [
       "<Figure size 720x288 with 1 Axes>"
      ]
     },
     "metadata": {
      "needs_background": "light"
     },
     "output_type": "display_data"
    }
   ],
   "source": [
    "size = 200\n",
    "grid = np.linspace(-0.25, 1.25, 500)\n",
    "sample = uniform(size, 50)\n",
    "\n",
    "# Отрисовка графика\n",
    "plt.subplots(figsize=(10, 4))#<определите график размера 10 на 4>\n",
    "\n",
    "# отображаем значения случайных величин полупрозрачными точками\n",
    "points = plt.scatter(\n",
    "    sample, \n",
    "    np.zeros(size), \n",
    "    alpha=0.4, \n",
    "    label='значения случайных величин'\n",
    ")\n",
    "\n",
    "# по точкам строим нормированную полупрозрачную гистограмму\n",
    "histogram = plt.hist(\n",
    "    sample, \n",
    "    bins=10, \n",
    "    density=True, \n",
    "    alpha=0.4, \n",
    "    color='#FF5300'\n",
    ")\n",
    "\n",
    "# рисуем график плотности\n",
    "line = plt.plot(\n",
    "    grid, \n",
    "    sps.uniform.pdf(grid), \n",
    "    color='#FF0000', \n",
    "    linewidth=3, \n",
    "    label='график плотности'\n",
    ")\n",
    "plt.legend(fontsize=8, loc=1)\n",
    "plt.grid(ls=':')\n",
    "plt.show()"
   ]
  },
  {
   "cell_type": "markdown",
   "metadata": {},
   "source": [
    "Исследуйте, как меняются значения случайных величин в зависимости от `precision`."
   ]
  },
  {
   "cell_type": "code",
   "execution_count": 25,
   "metadata": {},
   "outputs": [
    {
     "data": {
      "image/png": "[encoded data removed]",
      "text/plain": [
       "<Figure size 432x288 with 6 Axes>"
      ]
     },
     "metadata": {
      "needs_background": "light"
     },
     "output_type": "display_data"
    }
   ],
   "source": [
    "size = 100\n",
    "\n",
    "plt.plot(figsize=(15, 3))\n",
    "\n",
    "for i, precision in enumerate([1, 2, 3, 5, 10, 30]):\n",
    "    plt.subplot(3, 2, i + 1)\n",
    "    plt.scatter(\n",
    "        uniform(size, precision), \n",
    "        np.zeros(size), \n",
    "        alpha=0.4\n",
    "    )\n",
    "    plt.yticks([])\n",
    "    if i < 4: plt.xticks([])\n",
    "\n",
    "plt.show()"
   ]
  },
  {
   "cell_type": "markdown",
   "metadata": {},
   "source": [
    "**Вывод:**\n",
    "\n",
    "Используя генератор случайной выборки из непрерывного равномерного распределения, мы можем построить генератор выборки любого непрерывного равномерного распределения."
   ]
  },
  {
   "cell_type": "markdown",
   "metadata": {},
   "source": [
    "**Часть 2.** Напишите функцию генерации случайных величин в количестве `size` штук (как и раньше, тут может быть `tuple`) из распределения $\\mathcal{N}(loc, scale^2)$ с помощью преобразования Бокса-Мюллера, которое заключается в следующем. Пусть $\\xi$ и $\\eta$ -- независимые случайные величины, равномерно распределенные на (0, 1]. Тогда случайные величины $X = cos(2\\pi\\xi)\\sqrt{-2\\ln\\eta}, Y = sin(2\\pi\\xi)\\sqrt{-2\\ln\\eta}$ являются независимыми нормальными $\\mathcal{N}(0, 1)$.\n",
    "\n",
    "Реализация должна быть без циклов. Желательно использовать как можно меньше бросков монеты."
   ]
  },
  {
   "cell_type": "code",
   "execution_count": 26,
   "metadata": {},
   "outputs": [],
   "source": [
    "def normal(size=1, loc=0, scale=1, precision=30):\n",
    "    return ((np.sin(2*np.pi*uniform(size, precision))*np.sqrt((-2)*np.log(uniform(size, precision))))*scale+loc).reshape(size)"
   ]
  },
  {
   "cell_type": "markdown",
   "metadata": {},
   "source": [
    "Для $\\mathcal{N}(0, 1)$ сгенерируйте 200 независимых случайных величин, постройте график плотности на отрезке $[-3, 3]$, а также гистограмму по сгенерированным случайным величинам."
   ]
  },
  {
   "cell_type": "code",
   "execution_count": 30,
   "metadata": {},
   "outputs": [
    {
     "data": {
      "image/png": "[encoded data removed]",
      "text/plain": [
       "<Figure size 720x288 with 1 Axes>"
      ]
     },
     "metadata": {
      "needs_background": "light"
     },
     "output_type": "display_data"
    }
   ],
   "source": [
    "size = 200\n",
    "grid = np.linspace(-3, 3, 500)\n",
    "\n",
    "sample = normal(size, 0, 1, 30)\n",
    "\n",
    "plt.figure(figsize=(10,4))\n",
    "\n",
    "# отображаем значения случайных величин\n",
    "points = plt.scatter(\n",
    "    sample, \n",
    "    np.zeros(size), \n",
    "    alpha=0.4, \n",
    "    label='значения случайных величин'\n",
    ")\n",
    "\n",
    "# по точкам строим нормированную полупрозрачную гистограмму\n",
    "histogram = plt.hist(\n",
    "    sample, \n",
    "    bins=10, \n",
    "    density=True, \n",
    "    alpha=0.4, \n",
    "    color='#FF5300'\n",
    ")\n",
    "\n",
    "# рисуем график плотности\n",
    "line = plt.plot(\n",
    "    grid, \n",
    "    sps.norm.pdf(grid), \n",
    "    color='#FF0000', \n",
    "    linewidth=3, \n",
    "    label='график плотности'\n",
    ")\n",
    "plt.legend(fontsize=8, loc=1)\n",
    "plt.grid(ls=':')\n",
    "plt.show()"
   ]
  },
  {
   "cell_type": "markdown",
   "metadata": {},
   "source": [
    "### Сложная часть: генерация\n",
    "\n",
    "**Часть 3.** Вы уже научились генерировать выборку из равномерного распределения. Напишите функцию генерации выборки из экспоненциального распределения, используя из теории вероятностей:\n",
    "\n",
    "*Если $\\xi$ --- случайная величина, имеющая абсолютно непрерывное распределение, и $F$ --- ее функция распределения, то случайная величина $F(\\xi)$ имеет равномерное распределение на $[0, 1]$*.\n",
    "\n",
    "Какое преобразование над равномерной случайной величиной необходимо совершить?"
   ]
  },
  {
   "cell_type": "markdown",
   "metadata": {},
   "source": [
    "$F(x) = -\\frac{1}{\\lambda}\\ln(1-x)$ --- обратная функция экспоненциального распределения, значит необходимы такое преобразование: -$\\frac{1}{\\lambda}\\ln(1-\\xi)$ "
   ]
  },
  {
   "cell_type": "markdown",
   "metadata": {},
   "source": [
    "Для получения полного балла реализация должна быть без циклов, а параметр `size` может быть типа `tuple`."
   ]
  },
  {
   "cell_type": "code",
   "execution_count": 33,
   "metadata": {},
   "outputs": [],
   "source": [
    "def expon(size=1, lambd=1, precision=30):\n",
    "    return ((-1) / lambd * np.log(1 - uniform(size, precision))).reshape(size)"
   ]
  },
  {
   "cell_type": "markdown",
   "metadata": {},
   "source": [
    "Для $Exp(1)$ сгенерируйте выборку размера 100 и постройте график плотности этого распределения на отрезке $[-0.5, 5]$."
   ]
  },
  {
   "cell_type": "code",
   "execution_count": 42,
   "metadata": {},
   "outputs": [
    {
     "data": {
      "image/png": "[encoded data removed]",
      "text/plain": [
       "<Figure size 720x288 with 1 Axes>"
      ]
     },
     "metadata": {
      "needs_background": "light"
     },
     "output_type": "display_data"
    }
   ],
   "source": [
    "size = 100\n",
    "grid = np.linspace(-0.5, 5, 500)\n",
    "\n",
    "sample = expon(size, lambd=1, precision=50)\n",
    "\n",
    "plt.figure(figsize=(10,4))\n",
    "\n",
    "# отображаем значения случайных величин\n",
    "points = plt.scatter(\n",
    "    sample, \n",
    "    np.zeros(size), \n",
    "    alpha=0.4, \n",
    "    label='значения случайных величин'\n",
    ")\n",
    "\n",
    "# по точкам строим нормированную полупрозрачную гистограмму\n",
    "histogram = plt.hist(\n",
    "    sample, \n",
    "    bins=10, \n",
    "    density=True, \n",
    "    alpha=0.4, \n",
    "    color='#FF5300'\n",
    ")\n",
    "\n",
    "# рисуем график плотности\n",
    "line = plt.plot(\n",
    "    grid, \n",
    "    sps.expon.pdf(grid), \n",
    "    color='#FF0000', \n",
    "    linewidth=3, \n",
    "    label='график плотности'\n",
    ")\n",
    "plt.legend(fontsize=8, loc=1)\n",
    "plt.grid(ls=':')\n",
    "plt.show()"
   ]
  },
  {
   "cell_type": "markdown",
   "metadata": {},
   "source": [
    "**Вывод по задаче:**"
   ]
  },
  {
   "cell_type": "markdown",
   "metadata": {},
   "source": [
    "Используя генератор случайной выборки из непрерывного равномерного распределения, мы можем построить генератор выборки любого непрерывного равномерного распределения,используя функцию обратную к функции распределения случайной величины, методом обратного преобразования."
   ]
  },
  {
   "cell_type": "markdown",
   "metadata": {},
   "source": [
    "### Легкая часть: матричное умножение"
   ]
  },
  {
   "cell_type": "markdown",
   "metadata": {},
   "source": [
    "### Задача 2\n",
    "Напишите функцию, реализующую матричное умножение. При вычислении разрешается создавать объекты размерности три. Запрещается пользоваться функциями, реализующими матричное умножение (`numpy.dot`, операция `@`, операция умножения в классе `numpy.matrix`). Разрешено пользоваться только простыми векторно-арифметическими операциями над `numpy.array`, а также преобразованиями осей. *Авторское решение занимает одну строчку.*"
   ]
  },
  {
   "cell_type": "code",
   "execution_count": 11,
   "metadata": {},
   "outputs": [],
   "source": [
    "def matrix_multiplication(A, B):    \n",
    "    return np.apply_along_axis(lambda my_str: my_str.sum(), 1, np.apply_along_axis(lambda x: x* np.array(A), 0, np.array(B)))"
   ]
  },
  {
   "cell_type": "markdown",
   "metadata": {},
   "source": [
    "Проверьте правильность реализации на случайных матрицах. Должен получится ноль."
   ]
  },
  {
   "cell_type": "code",
   "execution_count": 12,
   "metadata": {},
   "outputs": [
    {
     "data": {
      "text/plain": [
       "1.3589129821411916e-13"
      ]
     },
     "execution_count": 12,
     "metadata": {},
     "output_type": "execute_result"
    }
   ],
   "source": [
    "A = sps.uniform.rvs(size=(10, 20))\n",
    "B = sps.uniform.rvs(size=(20, 30))\n",
    "np.abs(matrix_multiplication(A, B) - A @ B).sum()"
   ]
  },
  {
   "cell_type": "markdown",
   "metadata": {},
   "source": [
    "На основе опыта: вот в таком стиле многие из вас присылали бы нам свои работы, если не стали бы делать это задание :)"
   ]
  },
  {
   "cell_type": "code",
   "execution_count": 13,
   "metadata": {},
   "outputs": [],
   "source": [
    "def stupid_matrix_multiplication(A, B):\n",
    "    C = [[0 for j in range(len(B[0]))] for i in range(len(A))]\n",
    "    for i in range(len(A)):\n",
    "        for j in range(len(B[0])):\n",
    "            for k in range(len(B)):\n",
    "                C[i][j] += A[i][k] * B[k][j]\n",
    "    return C"
   ]
  },
  {
   "cell_type": "markdown",
   "metadata": {},
   "source": [
    "Проверьте, насколько быстрее работает ваш код по сравнению с неэффективной реализацией `stupid_matrix_multiplication`. Эффективный код должен работать почти в 200 раз быстрее. Для примера посмотрите также, насколько быстрее работают встроенные `numpy`-функции."
   ]
  },
  {
   "cell_type": "code",
   "execution_count": 14,
   "metadata": {},
   "outputs": [
    {
     "name": "stdout",
     "output_type": "stream",
     "text": [
      "CPU times: user 640 ms, sys: 76 ms, total: 716 ms\n",
      "Wall time: 716 ms\n",
      "CPU times: user 4.24 ms, sys: 0 ns, total: 4.24 ms\n",
      "Wall time: 2.33 ms\n",
      "CPU times: user 4.52 ms, sys: 0 ns, total: 4.52 ms\n",
      "Wall time: 1.36 ms\n",
      "CPU times: user 18.3 s, sys: 67.3 ms, total: 18.4 s\n",
      "Wall time: 18.3 s\n",
      "CPU times: user 9.51 ms, sys: 0 ns, total: 9.51 ms\n",
      "Wall time: 9.21 ms\n"
     ]
    }
   ],
   "source": [
    "A = sps.uniform.rvs(size=(400, 200))\n",
    "B = sps.uniform.rvs(size=(200, 300))\n",
    "\n",
    "%time C1 = matrix_multiplication(A, B)\n",
    "%time C2 = A @ B  # python 3.5\n",
    "%time C3 = np.matrix(A) * np.matrix(B)\n",
    "%time C4 = stupid_matrix_multiplication(A, B)\n",
    "%time C5 = np.einsum('ij,jk->ik', A, B) "
   ]
  },
  {
   "cell_type": "markdown",
   "metadata": {},
   "source": [
    "Ниже для примера приведена полная реализация функции. Ваc мы, конечно, не будем требовать проверять входные данные на корректность, но документации к функциям нужно писать."
   ]
  },
  {
   "cell_type": "code",
   "execution_count": 17,
   "metadata": {},
   "outputs": [],
   "source": [
    "def matrix_multiplication(A, B):\n",
    "    '''Возвращает матрицу, которая является результатом\n",
    "    матричного умножения матриц A и B.\n",
    "    \n",
    "    '''\n",
    "    \n",
    "    # Если A или B имеют другой тип, нужно выполнить преобразование типов\n",
    "    A = np.array(A)\n",
    "    B = np.array(B)\n",
    "    \n",
    "    # Проверка данных входных данных на корректность\n",
    "    assert A.ndim == 2 and B.ndim == 2, 'Размер матриц не равен 2'\n",
    "    assert A.shape[1] == B.shape[0], \\\n",
    "        ('Матрицы размерностей {} и {} неперемножаемы'.format(A.shape, B.shape))\n",
    "    \n",
    "    C = np.apply_along_axis(lambda my_str: my_str.sum(), 1, np.apply_along_axis(lambda x:x*np.array(A), 0, np.array(B)))\n",
    "    \n",
    "    return C"
   ]
  },
  {
   "cell_type": "markdown",
   "metadata": {},
   "source": [
    "### Сложная часть: броуновское движение"
   ]
  },
  {
   "cell_type": "markdown",
   "metadata": {},
   "source": [
    "### Задача 3"
   ]
  },
  {
   "cell_type": "markdown",
   "metadata": {},
   "source": [
    "**Познавательная часть задачи** (не пригодится для решения задачи)\n",
    "\n",
    "Абсолютное значение скорости движения частиц идеального газа, находящегося в состоянии ТД-равновесия, есть случайная величина, имеющая распределение Максвелла и зависящая только от одного термодинамического параметра &mdash; температуры $T$.\n",
    "\n",
    "В общем случае плотность вероятности распределения Максвелла для n-мерного пространства имеет вид:\n",
    "\n",
    "$p(v) = \\text{C}~\\large e^{- \\frac{mv^2}{2kT}} \\normalsize v^{n-1}$,\n",
    "\n",
    "где $v\\in[0,+\\infty)$, а константа $\\text{C}$ находится из условия нормировки $\\large\\int\\limits_0^{+\\infty}\\normalsize p(v)\\mathrm dv=1$.\n",
    "\n",
    "Физический смысл этой функции таков: вероятность того, что скорость частицы входит в промежуток $[v_0,v_0+\\mathrm dv]$, приближённо равна $p(v_0)\\mathrm dv$ при достаточно малом $\\mathrm dv$. Тут надо оговориться, что математически корректное утверждение таково:\n",
    "\n",
    "$\\lim\\limits_{\\mathrm dv\\to0}\\large\\frac{\\mathsf{P} \\{v \\:|\\: v\\:\\in\\:[v_0, v_0+\\mathrm dv]\\}}{\\mathrm dv}\\normalsize=p(v_0)$.\n",
    "\n",
    "Поскольку это распределение не ограничено справа, определённая доля частиц среды приобратает настолько высокие скорости, что при столкновении с макрообъектом может происходить заметное отклонение как траектории, так и скорости его движения.\n",
    "\n",
    "Мы предполагаем идеальность газа, поэтому компоненты вектора скорости частиц среды $v_i$ можно считать независимыми нормально распределёнными случайными величинами, т.е.\n",
    "\n",
    "$v_i\\sim\\mathcal{N}(0,s^2)$,\n",
    "\n",
    "где $s$ зависит от температуры и массы частиц и одинаково для всех направлений движения.\n",
    "\n",
    "При столкновении макрообъекта с частицами среды происходит перераспределение импульса в соответствии с законами сохранения энергии и импульса, но в силу большого числа подобных событий за единицу времени, моделировать их напрямую достаточно затруднительно. Поэтому для выполнения этого ноутбука сделаем следующие предположения:\n",
    "\n",
    "- Приращение компоненты координаты броуновской частицы за фиксированный промежуток времени (или за шаг) $\\Delta t$ имеет вид $\\Delta x_i\\sim\\mathcal{N}(0,\\sigma ^ 2)$.\n",
    "- $\\sigma$ является конкретным числом, зависящим как от $\\Delta t$, так и от параметров броуновской частицы и среды.\n",
    "- При этом $\\sigma$ не зависит ни от координат, ни от текущего вектора скорости броуновкой частицы.\n",
    "\n",
    "Если говорить формальным языком, в этом ноутбуке мы будем моделировать [Винеровский случайный процесс](https://ru.wikipedia.org/wiki/Винеровский_процесс) с фиксированным шагом."
   ]
  },
  {
   "cell_type": "markdown",
   "metadata": {},
   "source": [
    "**Задание**\n",
    "\n",
    "#### 1. Разработать функцию симуляции броуновского движения\n",
    "\n",
    "Функция должна вычислять приращение координаты частицы на каждом шаге как $\\Delta x_{ijk}\\sim\\mathcal{N}(0,\\sigma^2)~\\forall i,j,k$, где $i$ &mdash; номер частицы, $j$ &mdash; номер координаты, а $k$ &mdash; номер шага. Функция принимает в качестве аргументов:\n",
    "- Параметр $\\sigma$;\n",
    "- Количество последовательных изменений координат (шагов), приходящихся на один процесс;\n",
    "- Число процессов для генерации (количество различных частиц);\n",
    "- Количество пространственных измерений для генерации процесса.\n",
    "\n",
    "Возвращаемое значение:\n",
    "- 3-х мерный массив `result`, где `result[i,j,k]` &mdash; значение $j$-й координаты $i$-й частицы на $k$-м шаге.\n",
    "\n",
    "##### Общее требование\n",
    "\n",
    "- Считать, что все частицы в начальный момент времени находятся в начале координат.\n",
    "\n",
    "##### Что нужно сделать\n",
    "- Реализовать функцию для произвольной размерности, не используя циклы.\n",
    "- Дописать проверки типов для остальных аргументов.\n",
    "\n",
    "Обратите внимание на использование аннотаций для типов аргументов и возвращаемого значения функции. В новых версиях Питона подобные возможности синтаксиса используются в качестве подсказок для программистов и статических анализаторов кода, и никакой дополнительной функциональности не добавляют.\n",
    "\n",
    "Например, `typing.Union[int, float]` означает `\"или int, или float\"`.\n",
    "\n",
    "##### Что может оказаться полезным\n",
    "- Генерация нормальной выборки: `scipy.stats.norm`. [Ссылка](https://docs.scipy.org/doc/scipy/reference/generated/scipy.stats.norm.html)\n",
    "- Кумулятивная сумма: метод `cumsum` у `np.ndarray`. [Ссылка](https://docs.scipy.org/doc/numpy/reference/generated/numpy.ndarray.cumsum.html)"
   ]
  },
  {
   "cell_type": "code",
   "execution_count": null,
   "metadata": {},
   "outputs": [],
   "source": [
    "def generate_brownian(sigma: typing.Union[int, float] = 1,\n",
    "                      *,\n",
    "                      n_proc: int = 10,\n",
    "                      n_dims: int = 2,\n",
    "                      n_steps: int = 100) -> np.ndarray:\n",
    "    \"\"\"\n",
    "    :param sigma:    стандартное отклонение нормального распределения,\n",
    "                     генерирующего пошаговые смещения координат\n",
    "    :param n_proc:   <ДОПИСАТЬ>\n",
    "    :param n_dims:   <ДОПИСАТЬ>\n",
    "    :param n_steps:  <ДОПИСАТЬ>\n",
    "\n",
    "    :return:         np.ndarray размера (n_proc, n_dims, n_steps), содержащий\n",
    "                     на позиции [i,j,k] значение j-й координаты i-й частицы \n",
    "                     на k-м шаге.\n",
    "    \"\"\"\n",
    "    if not np.issubdtype(type(sigma), np.number):\n",
    "        raise TypeError(\"Параметр 'sigma' должен быть числом\")\n",
    "    # <ДОПИСАТЬ ПРОВЕРКИ ТИПОВ>\n",
    "\n",
    "    return <...>"
   ]
  },
  {
   "cell_type": "markdown",
   "metadata": {},
   "source": [
    "Символ `*` в заголовке означает, что все аргументы, объявленные после него, необходимо определять только по имени.\n",
    "\n",
    "Например,\n",
    "\n",
    "```python\n",
    "generate_brownian(323, 3)          # Ошибка\n",
    "generate_brownian(323, n_steps=3)  # OK\n",
    "```\n",
    "\n",
    "При проверке типов остальных аргументов, по аналогии с `np.number`, можно использовать `np.integer`. Конструкция `np.issubdtype(type(param), np.number)` используется по причине того, что стандартная питоновская проверка `isinstance(sigma, (int, float))` не будет работать для `numpy`-чисел `int64, int32, float64` и т.д."
   ]
  },
  {
   "cell_type": "code",
   "execution_count": null,
   "metadata": {},
   "outputs": [],
   "source": [
    "brownian_2d = generate_brownian(2, n_steps=12000, n_proc=500, n_dims=2)\n",
    "assert brownian_2d.shape == (500, 2, 12000)"
   ]
  },
  {
   "cell_type": "markdown",
   "metadata": {},
   "source": [
    "#### 2. Визуализируйте траектории для 9-ти первых броуновских частиц\n",
    "\n",
    "##### Что нужно сделать\n",
    "- Нарисовать 2D-графики для `brownian_2d`. \n",
    "- Нарисовать 3D-графики для `brownian_3d = generate_brownian(2, n_steps=12000, n_proc=500, n_dims=3)`. \n",
    "\n",
    "##### Общие требования\n",
    "- Установить соотношение масштабов осей, равное 1, для каждого из подграфиков.\n",
    "\n",
    "##### Что может оказаться полезным\n",
    "- [Туториал](https://matplotlib.org/devdocs/gallery/subplots_axes_and_figures/subplots_demo.html) по построению нескольких графиков на одной странице.\n",
    "- Метод `plot` у `AxesSubplot` (переменная `ax` в цикле ниже).\n",
    "- Метод `set_aspect` у `AxesSubplot`."
   ]
  },
  {
   "cell_type": "code",
   "execution_count": null,
   "metadata": {},
   "outputs": [],
   "source": [
    "fig, axes = plt.subplots(3, 3, figsize=(18, 10))\n",
    "fig.suptitle('Траектории броуновского движения', fontsize=20)\n",
    "\n",
    "for ax, (xs, ys) in zip(axes.flat, brownian_2d):\n",
    "    <...>\n",
    "    pass"
   ]
  },
  {
   "cell_type": "markdown",
   "metadata": {},
   "source": [
    "#### 3. Постройте график среднего расстояния частицы от начала координат в зависимости от времени (шага)\n",
    "\n",
    "- Постройте для `n_dims` от 1 до 5 включительно.\n",
    "- Кривые должны быть отрисованы на одном графике. Каждая кривая должна иметь легенду.\n",
    "- Для графиков подписи к осям обязательны.\n",
    "\n",
    "#####  Вопросы\n",
    "- Как вы думаете, какой функцией может описываться данная зависимость?\n",
    "- Сильно ли её вид зависит от размерности пространства?\n",
    "- Можно ли её линеаризовать? Если да, нарисуйте график с такими же требованиями."
   ]
  },
  {
   "cell_type": "code",
   "execution_count": null,
   "metadata": {},
   "outputs": [],
   "source": [
    "plt.figure(figsize=(12, 6))\n",
    "\n",
    "for n_dims in range(1, 6):\n",
    "    plt.plot(\n",
    "        <...>\n",
    "        label=f'Размерность: {n_dims}'\n",
    "    )\n",
    "\n",
    "plt.ylabel('Ср. раст. частицы от нач. координат')\n",
    "plt.xlabel('Шаг')\n",
    "plt.legend(loc='best')\n",
    "plt.tight_layout()\n",
    "plt.show()"
   ]
  },
  {
   "cell_type": "markdown",
   "metadata": {},
   "source": [
    "### Сложная часть: визуализация распределений"
   ]
  },
  {
   "cell_type": "markdown",
   "metadata": {},
   "source": [
    "### Задача 4"
   ]
  },
  {
   "cell_type": "markdown",
   "metadata": {},
   "source": [
    "В этой задаче вам нужно исследовать свойства дискретных распределений и абсолютно непрерывных распределений.\n",
    "\n",
    "Для перечисленных ниже распределений нужно  \n",
    "1) На основе графиков дискретной плотности (функции массы) для различных параметров пояснить, за что отвечает каждый параметр.  \n",
    "2) Сгенерировать набор независимых случайных величин из этого распределения и построить по ним гистограмму.  \n",
    "3) Сделать выводы о свойтсвах каждого из распределений.\n",
    "\n",
    "Распределения:\n",
    "* Бернулли \n",
    "* Биномиальное\n",
    "* Равномерное\n",
    "* Геометрическое\n",
    "\n",
    "Для выполнения данного задания можно использовать код с лекции. "
   ]
  },
  {
   "cell_type": "code",
   "execution_count": null,
   "metadata": {},
   "outputs": [],
   "source": [
    "<...>"
   ]
  }
 ],
 "metadata": {
  "kernelspec": {
   "display_name": "Python 3",
   "language": "python",
   "name": "python3"
  },
  "language_info": {
   "codemirror_mode": {
    "name": "ipython",
    "version": 3
   },
   "file_extension": ".py",
   "mimetype": "text/x-python",
   "name": "python",
   "nbconvert_exporter": "python",
   "pygments_lexer": "ipython3",
   "version": "3.7.6"
  }
 },
 "nbformat": 4,
 "nbformat_minor": 2
}
